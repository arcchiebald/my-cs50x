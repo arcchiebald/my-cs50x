{
 "cells": [
  {
   "cell_type": "markdown",
   "metadata": {},
   "source": [
    "Testing sympy for time-to-solve."
   ]
  },
  {
   "cell_type": "code",
   "execution_count": 2,
   "metadata": {},
   "outputs": [],
   "source": [
    "from sympy import *\n",
    "\n",
    "x,y = symbols('x y')\n",
    "equat = (2*x**2)+(10*x)+8\n",
    "pasux = solve(equat, x)\n",
    "print(pasux[0][numerator])"
   ]
  }
 ],
 "metadata": {
  "kernelspec": {
   "display_name": "GraphLearn_venv",
   "language": "python",
   "name": "python3"
  },
  "language_info": {
   "codemirror_mode": {
    "name": "ipython",
    "version": 3
   },
   "file_extension": ".py",
   "mimetype": "text/x-python",
   "name": "python",
   "nbconvert_exporter": "python",
   "pygments_lexer": "ipython3",
   "version": "3.10.6 (main, Nov 14 2022, 16:10:14) [GCC 11.3.0]"
  },
  "orig_nbformat": 4,
  "vscode": {
   "interpreter": {
    "hash": "6c262d5b717860b96e61060da0294487b9c4eebf282232db67661478b498221b"
   }
  }
 },
 "nbformat": 4,
 "nbformat_minor": 2
}
